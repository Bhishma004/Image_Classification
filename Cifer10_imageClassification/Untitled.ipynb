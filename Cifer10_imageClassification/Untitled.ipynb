{
 "cells": [
  {
   "cell_type": "code",
   "execution_count": 1,
   "id": "e6f076e0",
   "metadata": {},
   "outputs": [
    {
     "name": "stdout",
     "output_type": "stream",
     "text": [
      "Extracted Mobile Numbers: ['1234567890', '9876543210', '9876543210']\n"
     ]
    }
   ],
   "source": [
    "import re\n",
    "\n",
    "def extract_mobile_numbers(whatsapp_numbers):\n",
    "    # Define a regular expression pattern for matching phone numbers\n",
    "    phone_number_pattern = re.compile(r'\\b\\d{10}\\b')\n",
    "\n",
    "    # Initialize an empty list to store extracted phone numbers\n",
    "    extracted_numbers = []\n",
    "\n",
    "    # Iterate through each WhatsApp number\n",
    "    for number in whatsapp_numbers:\n",
    "        # Use the findall method to find all occurrences of the pattern in the given string\n",
    "        numbers_found = phone_number_pattern.findall(number)\n",
    "\n",
    "        # Append the extracted numbers to the result list\n",
    "        extracted_numbers.extend(numbers_found)\n",
    "\n",
    "    return extracted_numbers\n",
    "\n",
    "# Example usage:\n",
    "whatsapp_numbers = [\n",
    "    \"John: +1234567890\",\n",
    "    \"Alice: +9876543210\",\n",
    "    \"Bob: 555-123-4567\",\n",
    "    \"Charlie: 9876543210\",\n",
    "]\n",
    "\n",
    "extracted_numbers = extract_mobile_numbers(whatsapp_numbers)\n",
    "\n",
    "print(\"Extracted Mobile Numbers:\", extracted_numbers)"
   ]
  },
  {
   "cell_type": "code",
   "execution_count": null,
   "id": "494aaae2",
   "metadata": {},
   "outputs": [],
   "source": []
  }
 ],
 "metadata": {
  "kernelspec": {
   "display_name": "Python 3 (ipykernel)",
   "language": "python",
   "name": "python3"
  },
  "language_info": {
   "codemirror_mode": {
    "name": "ipython",
    "version": 3
   },
   "file_extension": ".py",
   "mimetype": "text/x-python",
   "name": "python",
   "nbconvert_exporter": "python",
   "pygments_lexer": "ipython3",
   "version": "3.7.7"
  }
 },
 "nbformat": 4,
 "nbformat_minor": 5
}
